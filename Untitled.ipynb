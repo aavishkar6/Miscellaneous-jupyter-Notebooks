{
 "cells": [
  {
   "cell_type": "code",
   "execution_count": 2,
   "id": "a76799dc",
   "metadata": {},
   "outputs": [
    {
     "name": "stdout",
     "output_type": "stream",
     "text": [
      "{\\rtf1\\ansi\\ansicpg1252\\cocoartf1671\\cocoasubrtf400\n",
      "{\\fonttbl\\f0\\fnil\\fcharset0 Menlo-Regular;}\n",
      "{\\colortbl;\\red255\\green255\\blue255;\\red0\\green0\\blue0;}\n",
      "{\\*\\expandedcolortbl;;\\csgray\\c0;}\n",
      "\\margl1440\\margr1440\\vieww10800\\viewh8400\\viewkind0\n",
      "\\pard\\tx560\\tx1120\\tx1680\\tx2240\\tx2800\\tx3360\\tx3920\\tx4480\\tx5040\\tx5600\\tx6160\\tx6720\\pardirnatural\\partightenfactor0\n",
      "\n",
      "\\f0\\fs22 \\cf2 \\CocoaLigature0 12\\\n",
      "8 50\\\n",
      "74 59\\\n",
      "31 73\\\n",
      "45 79\\\n",
      "24 10\\\n",
      "41 66\\\n",
      "93 43\\\n",
      "88 4\\\n",
      "28 30\\\n",
      "41 13\\\n",
      "4 70\\\n",
      "10 58\\\n",
      "}\n"
     ]
    }
   ],
   "source": [
    "f = open(\"../problem13.4test.rtf\", \"r\")\n",
    "print(f.read())"
   ]
  },
  {
   "cell_type": "code",
   "execution_count": 5,
   "id": "fd67c1b3",
   "metadata": {},
   "outputs": [],
   "source": [
    "import pandas as pd\n",
    "\n",
    "df = pd.read_csv(\"../problem13.4test.rtf\")\n"
   ]
  },
  {
   "cell_type": "code",
   "execution_count": 7,
   "id": "e329b65b",
   "metadata": {},
   "outputs": [
    {
     "data": {
      "text/html": [
       "<div>\n",
       "<style scoped>\n",
       "    .dataframe tbody tr th:only-of-type {\n",
       "        vertical-align: middle;\n",
       "    }\n",
       "\n",
       "    .dataframe tbody tr th {\n",
       "        vertical-align: top;\n",
       "    }\n",
       "\n",
       "    .dataframe thead th {\n",
       "        text-align: right;\n",
       "    }\n",
       "</style>\n",
       "<table border=\"1\" class=\"dataframe\">\n",
       "  <thead>\n",
       "    <tr style=\"text-align: right;\">\n",
       "      <th></th>\n",
       "      <th>{\\rtf1\\ansi\\ansicpg1252\\cocoartf1671\\cocoasubrtf400</th>\n",
       "    </tr>\n",
       "  </thead>\n",
       "  <tbody>\n",
       "    <tr>\n",
       "      <th>0</th>\n",
       "      <td>{\\fonttbl\\f0\\fnil\\fcharset0 Menlo-Regular;}</td>\n",
       "    </tr>\n",
       "    <tr>\n",
       "      <th>1</th>\n",
       "      <td>{\\colortbl;\\red255\\green255\\blue255;\\red0\\gree...</td>\n",
       "    </tr>\n",
       "    <tr>\n",
       "      <th>2</th>\n",
       "      <td>{\\*\\expandedcolortbl;;\\csgray\\c0;}</td>\n",
       "    </tr>\n",
       "    <tr>\n",
       "      <th>3</th>\n",
       "      <td>\\margl1440\\margr1440\\vieww10800\\viewh8400\\view...</td>\n",
       "    </tr>\n",
       "    <tr>\n",
       "      <th>4</th>\n",
       "      <td>\\pard\\tx560\\tx1120\\tx1680\\tx2240\\tx2800\\tx3360...</td>\n",
       "    </tr>\n",
       "  </tbody>\n",
       "</table>\n",
       "</div>"
      ],
      "text/plain": [
       "  {\\rtf1\\ansi\\ansicpg1252\\cocoartf1671\\cocoasubrtf400\n",
       "0        {\\fonttbl\\f0\\fnil\\fcharset0 Menlo-Regular;} \n",
       "1  {\\colortbl;\\red255\\green255\\blue255;\\red0\\gree... \n",
       "2                 {\\*\\expandedcolortbl;;\\csgray\\c0;} \n",
       "3  \\margl1440\\margr1440\\vieww10800\\viewh8400\\view... \n",
       "4  \\pard\\tx560\\tx1120\\tx1680\\tx2240\\tx2800\\tx3360... "
      ]
     },
     "execution_count": 7,
     "metadata": {},
     "output_type": "execute_result"
    }
   ],
   "source": [
    "df.head()"
   ]
  }
 ],
 "metadata": {
  "kernelspec": {
   "display_name": "Python 3 (ipykernel)",
   "language": "python",
   "name": "python3"
  },
  "language_info": {
   "codemirror_mode": {
    "name": "ipython",
    "version": 3
   },
   "file_extension": ".py",
   "mimetype": "text/x-python",
   "name": "python",
   "nbconvert_exporter": "python",
   "pygments_lexer": "ipython3",
   "version": "3.9.13"
  }
 },
 "nbformat": 4,
 "nbformat_minor": 5
}
