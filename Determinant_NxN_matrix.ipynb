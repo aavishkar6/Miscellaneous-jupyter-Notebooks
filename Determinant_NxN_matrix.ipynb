{
 "cells": [
  {
   "cell_type": "code",
   "execution_count": 1,
   "id": "06972730",
   "metadata": {},
   "outputs": [],
   "source": [
    "matrix = [\n",
    "    [1,0,-1,3],\n",
    "    [2,3,1,4],\n",
    "    [-1,0,0,0],\n",
    "    [-1,1,1,1]\n",
    "]\n",
    "a = [\n",
    "    [12,5,1],\n",
    "    [-6,0,4],\n",
    "    [8,4,0]\n",
    "]\n",
    "a1 = [\n",
    "    [6,5,1],\n",
    "    [2,0,4],\n",
    "    [4,4,0]\n",
    "]\n",
    "a2 = [\n",
    "    [12,6,1],\n",
    "    [-6,2,4],\n",
    "    [8,4,0]\n",
    "]\n",
    "a3 = [\n",
    "    [12,5,6],\n",
    "    [-6,0,2],\n",
    "    [8,4,4]\n",
    "]"
   ]
  },
  {
   "cell_type": "code",
   "execution_count": 2,
   "id": "fbb544d7",
   "metadata": {},
   "outputs": [],
   "source": [
    "import copy\n",
    "def determinant(array):\n",
    "    total = 0\n",
    "    if len(array) < 3:\n",
    "        return ( array[0][0]*array[1][1] - array[0][1]*array[1][0]) #when the matrix reaches 2 x 2. calculates ad - bc\n",
    "    else:\n",
    "        for i in range(len(array[0])):\n",
    "            elem = array[0][i]\n",
    "            dupArray = copy.deepcopy(array)\n",
    "            rowColumn = 2 + i\n",
    "            value = elem * determinant(remove(dupArray, 0, i))\n",
    "            if rowColumn % 2 != 0:\n",
    "                value = value * -1\n",
    "            total += value\n",
    "\n",
    "    return total"
   ]
  },
  {
   "cell_type": "code",
   "execution_count": 3,
   "id": "9e0496b7",
   "metadata": {},
   "outputs": [],
   "source": [
    "def remove(array, row, column):\n",
    "    array.pop(row)\n",
    "    for i in range(len(array)):\n",
    "        k = array[i].pop(column)\n",
    "    return array"
   ]
  },
  {
   "cell_type": "code",
   "execution_count": 4,
   "id": "d3d08da8",
   "metadata": {},
   "outputs": [
    {
     "name": "stdout",
     "output_type": "stream",
     "text": [
      "-56\n"
     ]
    }
   ],
   "source": [
    "print(determinant(a))\n"
   ]
  },
  {
   "cell_type": "code",
   "execution_count": 10,
   "id": "7cd95e77",
   "metadata": {},
   "outputs": [
    {
     "name": "stdout",
     "output_type": "stream",
     "text": [
      "-8\n"
     ]
    }
   ],
   "source": [
    "print(determinant(a1))"
   ]
  },
  {
   "cell_type": "code",
   "execution_count": 11,
   "id": "31d5d075",
   "metadata": {},
   "outputs": [
    {
     "name": "stdout",
     "output_type": "stream",
     "text": [
      "-40\n"
     ]
    }
   ],
   "source": [
    "print(determinant(a2))"
   ]
  },
  {
   "cell_type": "code",
   "execution_count": 13,
   "id": "8ec2e2f7",
   "metadata": {},
   "outputs": [
    {
     "name": "stdout",
     "output_type": "stream",
     "text": [
      "12\n"
     ]
    }
   ],
   "source": [
    "k = [\n",
    "    [0,-4,-1],\n",
    "    [4,0,0],\n",
    "    [-1,1,1]\n",
    "]\n",
    "print(determinant(k))"
   ]
  }
 ],
 "metadata": {
  "kernelspec": {
   "display_name": "Python 3 (ipykernel)",
   "language": "python",
   "name": "python3"
  },
  "language_info": {
   "codemirror_mode": {
    "name": "ipython",
    "version": 3
   },
   "file_extension": ".py",
   "mimetype": "text/x-python",
   "name": "python",
   "nbconvert_exporter": "python",
   "pygments_lexer": "ipython3",
   "version": "3.9.13"
  }
 },
 "nbformat": 4,
 "nbformat_minor": 5
}
