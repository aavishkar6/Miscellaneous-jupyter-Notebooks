{
 "cells": [
  {
   "cell_type": "markdown",
   "id": "0a780edc",
   "metadata": {},
   "source": [
    "# Row-reduction echelon program"
   ]
  },
  {
   "cell_type": "markdown",
   "id": "6bbb21e7",
   "metadata": {},
   "source": [
    "what we want is a row echelon form of the given augumented matrix. the following steps should be taken into consideration. \n",
    "\n",
    "\n",
    "1. a loop that should stop at some given condition ( the condition is that for each row i, there should be all zero values to the left of the index i . \n",
    "2. to perform row operations, one row should be added or subtracted using scalars when needed. \n",
    "3. a loop looks good. \n",
    "4. the matrix is represented as a 2d list in python. \n",
    "5. \n",
    "\n"
   ]
  },
  {
   "cell_type": "code",
   "execution_count": null,
   "id": "32149ef8",
   "metadata": {},
   "outputs": [],
   "source": [
    "aug_matrix = [\n",
    "    [1,2,3,7],\n",
    "    [2,3,1,5],\n",
    "    [1,4,5,8]\n",
    "]"
   ]
  },
  {
   "cell_type": "code",
   "execution_count": null,
   "id": "f093f696",
   "metadata": {},
   "outputs": [],
   "source": []
  }
 ],
 "metadata": {
  "kernelspec": {
   "display_name": "Python 3 (ipykernel)",
   "language": "python",
   "name": "python3"
  },
  "language_info": {
   "codemirror_mode": {
    "name": "ipython",
    "version": 3
   },
   "file_extension": ".py",
   "mimetype": "text/x-python",
   "name": "python",
   "nbconvert_exporter": "python",
   "pygments_lexer": "ipython3",
   "version": "3.9.13"
  }
 },
 "nbformat": 4,
 "nbformat_minor": 5
}
