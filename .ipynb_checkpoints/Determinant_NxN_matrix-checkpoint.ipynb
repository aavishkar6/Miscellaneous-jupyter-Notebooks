{
 "cells": [
  {
   "cell_type": "code",
   "execution_count": 6,
   "id": "06972730",
   "metadata": {},
   "outputs": [],
   "source": [
    "matrix = [\n",
    "    [3,-7,8,9,-6],\n",
    "    [0,2,-5,7,3],\n",
    "    [0,0,1,5,0],\n",
    "    [0,0,2,4,-1],\n",
    "    [0,0,0,-2,0]\n",
    "]"
   ]
  },
  {
   "cell_type": "code",
   "execution_count": 7,
   "id": "fbb544d7",
   "metadata": {},
   "outputs": [],
   "source": [
    "import copy\n",
    "def determinant(array):\n",
    "    total = 0\n",
    "    if len(array) < 3:\n",
    "        return ( array[0][0]*array[1][1] - array[0][1]*array[1][0]) #when the matrix reaches 2 x 2. calculates ad - bc\n",
    "    else:\n",
    "        for i in range(len(array[0])):\n",
    "            elem = array[0][i]\n",
    "            dupArray = copy.deepcopy(array)\n",
    "            rowColumn = 2 + i\n",
    "            value = elem * determinant(remove(dupArray, 0, i))\n",
    "            if rowColumn % 2 != 0:\n",
    "                value = value * -1\n",
    "            total += value\n",
    "\n",
    "    return total"
   ]
  },
  {
   "cell_type": "code",
   "execution_count": 8,
   "id": "9e0496b7",
   "metadata": {},
   "outputs": [],
   "source": [
    "def remove(array, row, column):\n",
    "    array.pop(row)\n",
    "    for i in range(len(array)):\n",
    "        k = array[i].pop(column)\n",
    "    return array"
   ]
  },
  {
   "cell_type": "code",
   "execution_count": 9,
   "id": "89ea5eaf",
   "metadata": {},
   "outputs": [
    {
     "name": "stdout",
     "output_type": "stream",
     "text": [
      "-12\n"
     ]
    }
   ],
   "source": [
    "print(determinant(matrix))"
   ]
  },
  {
   "cell_type": "code",
   "execution_count": null,
   "id": "d3d08da8",
   "metadata": {},
   "outputs": [],
   "source": []
  }
 ],
 "metadata": {
  "kernelspec": {
   "display_name": "Python 3 (ipykernel)",
   "language": "python",
   "name": "python3"
  },
  "language_info": {
   "codemirror_mode": {
    "name": "ipython",
    "version": 3
   },
   "file_extension": ".py",
   "mimetype": "text/x-python",
   "name": "python",
   "nbconvert_exporter": "python",
   "pygments_lexer": "ipython3",
   "version": "3.9.13"
  }
 },
 "nbformat": 4,
 "nbformat_minor": 5
}
